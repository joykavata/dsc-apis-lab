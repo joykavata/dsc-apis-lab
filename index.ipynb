{
 "cells": [
  {
   "cell_type": "markdown",
   "metadata": {},
   "source": [
    "# APIs - Cumulative Lab\n",
    "\n",
    "\n",
    "## Introduction \n",
    "\n",
    "We've seen how the Yelp API works and how to create basic visualizations using Folium. It's time to put those skills to work in order to create a working map! Taking things a step further, you'll also independently explore how to perform pagination in order to retrieve a full results set from the Yelp API.\n",
    "\n",
    "## Objectives\n",
    "\n",
    "You will be able to: \n",
    "\n",
    "* Practice using functions to organize your code\n",
    "* Use pagination to retrieve all results from an API query\n",
    "* Practice parsing data returned from an API query\n",
    "* Practice interpreting visualizations of a dataset\n",
    "* Create maps using Folium"
   ]
  },
  {
   "cell_type": "markdown",
   "metadata": {},
   "source": [
    "## Your Task: Query Yelp for All Businesses in a Category and Analyze the Results\n",
    "\n",
    "![restaurant counter with pizza](images/restaurant_counter.jpg)\n",
    "\n",
    "Photo by <a href=\"https://unsplash.com/@jordanmadrid?utm_source=unsplash&utm_medium=referral&utm_content=creditCopyText\">Jordan Madrid</a> on <a href=\"/s/photos/pizza-restaurant?utm_source=unsplash&utm_medium=referral&utm_content=creditCopyText\">Unsplash</a>"
   ]
  },
  {
   "cell_type": "markdown",
   "metadata": {},
   "source": [
    "### Overview\n",
    "\n",
    "You've now worked with some API calls, but we have yet to see how to retrieve a more complete dataset in a programmatic manner. In this lab, you will write a query of businesses on Yelp, then use *pagination* to retrieve all possible results for that query. Then you will create a summary of your findings, including a Folium map of the geographic locations of those businesses.\n",
    "\n",
    "### Technical Details\n",
    "\n",
    "Returning to the Yelp API, the [documentation](https://www.yelp.com/developers/documentation/v3/business_search) also provides us details regarding the **API limits**. These often include details about the number of requests a user is allowed to make within a specified time limit and the maximum number of results to be returned. In this case, we are told that any request has a **maximum of 50 results per request** and defaults to 20. Furthermore, any search will be limited to a **total of 1000 results**. To retrieve all 1000 of these results, we would have to page through the results piece by piece, retrieving 50 at a time. Processes such as these are often referred to as pagination.\n",
    "\n",
    "Also, be mindful of the **API** ***rate*** **limits**. You can only make **5000 requests per day** and are also can make requests too fast. Start prototyping small before running a loop that could be faulty. You can also use `time.sleep(n)` to add delays. For more details see https://www.yelp.com/developers/documentation/v3/rate_limiting.\n",
    "\n",
    "In this lab, you will define a search and then paginate over the results to retrieve all of the results. You'll then parse these responses as a list of dictionaries (for further exploration) and create a map using Folium to visualize the results geographically.\n",
    "\n",
    "### Requirements\n",
    "\n",
    "#### 1. Make the Initial Request\n",
    "\n",
    "Start by filling in your API key to make the initial request to the business search API. Investigate the structure of the response you get back and start figuring out how you will extract the relevant information.\n",
    "\n",
    "#### 2. Add Pagination\n",
    "\n",
    "Using loops and functions, collect the maximum number of results for your query from the API.\n",
    "\n",
    "#### 3. Perform Exploratory Analysis\n",
    "\n",
    "Interpret visualizations related to the price range, average rating, and number of reviews for all query results.\n",
    "\n",
    "#### 4. Create a Folium Map\n",
    "\n",
    "Using latitude and longitude data, plot the query results on an interactive map."
   ]
  },
  {
   "cell_type": "markdown",
   "metadata": {},
   "source": [
    "## 1. Make the Initial Request\n",
    "\n",
    "### Querying\n",
    "\n",
    "Start by making an initial request to the Yelp API. Your search must include at least 2 parameters: **term** and **location**. For example, you might search for pizza restaurants in NYC. The term and location is up to you but make the request below.\n",
    "\n",
    "Use the `requests` library ([documentation here](https://requests.readthedocs.io/en/master/user/quickstart/#make-a-request)).\n",
    "\n",
    "You'll also need an API key from Yelp. If you haven't done this already, go to the Yelp [Manage App page](https://www.yelp.com/developers/v3/manage_app) and create a new app (after making an account if you haven't already)."
   ]
  },
  {
   "cell_type": "code",
   "execution_count": 39,
   "metadata": {},
   "outputs": [
    {
     "data": {
      "text/plain": [
       "<Response [200]>"
      ]
     },
     "execution_count": 39,
     "metadata": {},
     "output_type": "execute_result"
    }
   ],
   "source": [
    "# Replace None with appropriate code\n",
    "\n",
    "# Import the requests library\n",
    "import requests\n",
    "\n",
    "# Get this from the \"Manage App\" page. Make sure you set them\n",
    "# back to None before pushing this to GitHub, since otherwise\n",
    "# your credentials will be compromised\n",
    "api_key = None\n",
    "\n",
    "# These can be whatever you want! But the solution uses \"pizza\"\n",
    "# and \"New York NY\" if you want to compare your work directly\n",
    "term = \"pizza\"\n",
    "location = \"New York NY\"\n",
    "\n",
    "# Set up params for request\n",
    "url = \"https://api.yelp.com/v3/businesses/search\"\n",
    "headers = {\n",
    "    \"Authorization\": \"Bearer {}\".format(api_key)\n",
    "}\n",
    "url_params = {\n",
    "    \"term\": term.replace(\" \", \"+\"),\n",
    "    \"location\": location.replace(\" \", \"+\")\n",
    "}\n",
    "\n",
    "# Make the request using requests.get, passing in\n",
    "# url, headers=headers, and params=url_params\n",
    "response = requests.get(url, headers= headers, params= url_params)\n",
    "\n",
    "# Confirm we got a 200 response\n",
    "response"
   ]
  },
  {
   "cell_type": "code",
   "execution_count": 40,
   "metadata": {},
   "outputs": [
    {
     "data": {
      "text/plain": [
       "dict_keys(['businesses', 'total', 'region'])"
      ]
     },
     "execution_count": 40,
     "metadata": {},
     "output_type": "execute_result"
    }
   ],
   "source": [
    "# Run this cell without changes\n",
    "\n",
    "# Get the response body in JSON format\n",
    "response_json = response.json()\n",
    "# View the keys\n",
    "response_json.keys()"
   ]
  },
  {
   "cell_type": "markdown",
   "metadata": {},
   "source": [
    "### Extracting Data\n",
    "\n",
    "Now, retrieve the value associated with the `'businesses'` key, and inspect its contents."
   ]
  },
  {
   "cell_type": "code",
   "execution_count": 41,
   "metadata": {},
   "outputs": [
    {
     "data": {
      "text/plain": [
       "[{'id': 'zj8Lq1T8KIC5zwFief15jg',\n",
       "  'alias': 'prince-street-pizza-new-york-2',\n",
       "  'name': 'Prince Street Pizza',\n",
       "  'image_url': 'https://s3-media4.fl.yelpcdn.com/bphoto/HVjttLctuIzKL3LSlsRf-w/o.jpg',\n",
       "  'is_closed': False,\n",
       "  'url': 'https://www.yelp.com/biz/prince-street-pizza-new-york-2?adjust_creative=sBUNsTch3b8aWWRUUNZZIQ&utm_campaign=yelp_api_v3&utm_medium=api_v3_business_search&utm_source=sBUNsTch3b8aWWRUUNZZIQ',\n",
       "  'review_count': 4458,\n",
       "  'categories': [{'alias': 'pizza', 'title': 'Pizza'},\n",
       "   {'alias': 'italian', 'title': 'Italian'}],\n",
       "  'rating': 4.5,\n",
       "  'coordinates': {'latitude': 40.72308755605564,\n",
       "   'longitude': -73.99453001177575},\n",
       "  'transactions': ['delivery', 'pickup'],\n",
       "  'price': '$',\n",
       "  'location': {'address1': '27 Prince St',\n",
       "   'address2': None,\n",
       "   'address3': '',\n",
       "   'city': 'New York',\n",
       "   'zip_code': '10012',\n",
       "   'country': 'US',\n",
       "   'state': 'NY',\n",
       "   'display_address': ['27 Prince St', 'New York, NY 10012']},\n",
       "  'phone': '+12129664100',\n",
       "  'display_phone': '(212) 966-4100',\n",
       "  'distance': 1961.8771417367063},\n",
       " {'id': 'ysqgdbSrezXgVwER2kQWKA',\n",
       "  'alias': 'julianas-brooklyn-3',\n",
       "  'name': \"Juliana's\",\n",
       "  'image_url': 'https://s3-media1.fl.yelpcdn.com/bphoto/OCDZ4nXoaMHF0TraV0u2-g/o.jpg',\n",
       "  'is_closed': False,\n",
       "  'url': 'https://www.yelp.com/biz/julianas-brooklyn-3?adjust_creative=sBUNsTch3b8aWWRUUNZZIQ&utm_campaign=yelp_api_v3&utm_medium=api_v3_business_search&utm_source=sBUNsTch3b8aWWRUUNZZIQ',\n",
       "  'review_count': 2505,\n",
       "  'categories': [{'alias': 'pizza', 'title': 'Pizza'}],\n",
       "  'rating': 4.5,\n",
       "  'coordinates': {'latitude': 40.70274718768062,\n",
       "   'longitude': -73.99343490196397},\n",
       "  'transactions': ['delivery'],\n",
       "  'price': '$$',\n",
       "  'location': {'address1': '19 Old Fulton St',\n",
       "   'address2': '',\n",
       "   'address3': '',\n",
       "   'city': 'Brooklyn',\n",
       "   'zip_code': '11201',\n",
       "   'country': 'US',\n",
       "   'state': 'NY',\n",
       "   'display_address': ['19 Old Fulton St', 'Brooklyn, NY 11201']},\n",
       "  'phone': '+17185966700',\n",
       "  'display_phone': '(718) 596-6700',\n",
       "  'distance': 308.56984360837544}]"
      ]
     },
     "execution_count": 41,
     "metadata": {},
     "output_type": "execute_result"
    }
   ],
   "source": [
    "# Replace None with appropriate code\n",
    "\n",
    "# Retrieve the value from response_json\n",
    "businesses = response_json[\"businesses\"]\n",
    "\n",
    "# View the first 2 records\n",
    "businesses[:2]"
   ]
  },
  {
   "cell_type": "markdown",
   "metadata": {},
   "source": [
    "### Preparing Data\n",
    "\n",
    "Write a function `prepare_data` that takes in a list of dictionaries like `businesses` and returns a copy that has been prepared for analysis:\n",
    "\n",
    "1. The `coordinates` key-value pair has been converted into two separate key-value pairs, `latitude` and `longitude`\n",
    "2. All other key-value pairs except for `name`, `review_count`, `rating`, and `price` have been dropped\n",
    "3. All dictionaries missing one of the relevant keys or containing null values have been dropped\n",
    "\n",
    "In other words, the final keys for each dictionary should be `name`, `review_count`, `rating`, `price`, `latitude`, and `longitude`.\n",
    "\n",
    "Complete the function in the cell below:"
   ]
  },
  {
   "cell_type": "code",
   "execution_count": 28,
   "metadata": {},
   "outputs": [
    {
     "data": {
      "text/plain": [
       "[{'name': 'Prince Street Pizza',\n",
       "  'review_count': 4458,\n",
       "  'rating': 4.5,\n",
       "  'price': '$',\n",
       "  'latitude': 40.72308755605564,\n",
       "  'longitude': -73.99453001177575},\n",
       " {'name': \"Juliana's\",\n",
       "  'review_count': 2505,\n",
       "  'rating': 4.5,\n",
       "  'price': '$$',\n",
       "  'latitude': 40.70274718768062,\n",
       "  'longitude': -73.99343490196397},\n",
       " {'name': \"Lombardi's Pizza\",\n",
       "  'review_count': 6376,\n",
       "  'rating': 4.0,\n",
       "  'price': '$$',\n",
       "  'latitude': 40.7215934960083,\n",
       "  'longitude': -73.9955956044561},\n",
       " {'name': 'Lucali',\n",
       "  'review_count': 1838,\n",
       "  'rating': 4.0,\n",
       "  'price': '$$',\n",
       "  'latitude': 40.681840746711224,\n",
       "  'longitude': -74.0003327},\n",
       " {'name': 'Rubirosa',\n",
       "  'review_count': 2747,\n",
       "  'rating': 4.5,\n",
       "  'price': '$$',\n",
       "  'latitude': 40.722766,\n",
       "  'longitude': -73.996233}]"
      ]
     },
     "execution_count": 28,
     "metadata": {},
     "output_type": "execute_result"
    }
   ],
   "source": [
    "# Replace None with appropriate code\n",
    "\n",
    "def prepare_data(data_list):\n",
    "    \"\"\"\n",
    "    This function takes in a list of dictionaries and prepares it\n",
    "    for analysis\n",
    "    \"\"\"\n",
    "    \n",
    "    # Make a new list to hold results\n",
    "    results = []\n",
    "    \n",
    "    for business_data in data_list:\n",
    "    \n",
    "        # Make a new dictionary to hold prepared data for this business\n",
    "        prepared_data = {}\n",
    "        \n",
    "        # Extract name, review_count, rating, and price key-value pairs\n",
    "        # from business_data and add to prepared_data\n",
    "        # If a key is not present in business_data, add it to prepared_data\n",
    "        # with an associated value of None\n",
    "        for key in (\"name\", \"review_count\", \"rating\", \"price\"):\n",
    "            prepared_data[key] = business_data.get(key, None)\n",
    "    \n",
    "        # Parse and add latitude and longitude columns\n",
    "        coordinates = business_data[\"coordinates\"]\n",
    "        prepared_data[\"latitude\"] = coordinates[\"latitude\"]\n",
    "        prepared_data[\"longitude\"] = coordinates[\"longitude\"]\n",
    "        \n",
    "        # Add to list if all values are present\n",
    "        if all(prepared_data.values()):\n",
    "            results.append(prepared_data)\n",
    "    \n",
    "    return results\n",
    "    \n",
    "# Test out function\n",
    "prepared_businesses = prepare_data(businesses)\n",
    "prepared_businesses[:5]"
   ]
  },
  {
   "cell_type": "markdown",
   "metadata": {},
   "source": [
    "Check that your function created the correct keys:"
   ]
  },
  {
   "cell_type": "code",
   "execution_count": 29,
   "metadata": {},
   "outputs": [],
   "source": [
    "# Run this cell without changes\n",
    "\n",
    "assert sorted(list(prepared_businesses[0].keys())) == ['latitude', 'longitude', 'name', 'price', 'rating', 'review_count']"
   ]
  },
  {
   "cell_type": "markdown",
   "metadata": {},
   "source": [
    "The following code will differ depending on your query, but we expect there to be 20 businesses in the original list, and potentially fewer in the prepared list (if any of them were missing data):"
   ]
  },
  {
   "cell_type": "code",
   "execution_count": 30,
   "metadata": {},
   "outputs": [
    {
     "name": "stdout",
     "output_type": "stream",
     "text": [
      "Original: 20\n",
      "Prepared: 17\n"
     ]
    }
   ],
   "source": [
    "# Run this cell without changes\n",
    "print(\"Original:\", len(businesses))\n",
    "print(\"Prepared:\", len(prepared_businesses))"
   ]
  },
  {
   "cell_type": "markdown",
   "metadata": {},
   "source": [
    "Great! We will reuse this function once we have retrieved the full dataset."
   ]
  },
  {
   "cell_type": "markdown",
   "metadata": {},
   "source": [
    "## 2. Add Pagination\n",
    "\n",
    "Now that you are able to extract information from one page of the response, let's figure out how to request as many pages as possible.\n",
    "\n",
    "### Determining the Total\n",
    "\n",
    "Depending on the number of total results for your query, you will either retrieve all of the results, or just the first 1000 (if there are more than 1000 total).\n",
    "\n",
    "We can find the total number of results using the `\"total\"` key:"
   ]
  },
  {
   "cell_type": "code",
   "execution_count": 31,
   "metadata": {},
   "outputs": [
    {
     "data": {
      "text/plain": [
       "11900"
      ]
     },
     "execution_count": 31,
     "metadata": {},
     "output_type": "execute_result"
    }
   ],
   "source": [
    "# Run this cell without changes\n",
    "response_json[\"total\"]"
   ]
  },
  {
   "cell_type": "markdown",
   "metadata": {},
   "source": [
    "(This is specific to the implementation of the Yelp API. Some APIs will just tell you that there are more pages, or will tell you the number of pages total, rather than the total number of results. If you're not sure, always check the documentation.)\n",
    "\n",
    "In the cell below, assign the variable `total` to either the value shown above (if it is less than 1000), or 1000."
   ]
  },
  {
   "cell_type": "code",
   "execution_count": 32,
   "metadata": {},
   "outputs": [],
   "source": [
    "# Replace None with appropriate code\n",
    "total = 1000"
   ]
  },
  {
   "cell_type": "markdown",
   "metadata": {},
   "source": [
    "### Calculating the Offsets\n",
    "\n",
    "The documentation states in the parameters section:\n",
    "\n",
    "> **Name**: `limit`, **Type:** int, **Description:** Optional. Number of business results to return. By default, it will return 20. Maximum is 50.\n",
    "\n",
    "> **Name**: `offset`, **Type:** int, **Description:** Optional. Offset the list of returned business results by this amount.\n",
    "\n",
    "So, to get the most results with the fewest API calls we want to set a limit of 50 every time. If, say, we wanted to get 210 total results, that would mean:\n",
    "\n",
    "1. Offset of `0` (first 50 records)\n",
    "2. Offset of `50` (second 50 records)\n",
    "3. Offset of `100` (third 50 records)\n",
    "4. Offset of `150` (fourth 50 records)\n",
    "5. Offset of `200` (final 10 records)\n",
    "\n",
    "In the cell below, create a function `get_offsets` that takes in a total and returns a list of offsets for that total. You can assume that there is a limit of 50 every time.\n",
    "\n",
    "*Hint: you can use `range` ([documentation here](https://docs.python.org/3.3/library/stdtypes.html?highlight=range#range)) to do this in one line of code. Just make the returned result is a list.*"
   ]
  },
  {
   "cell_type": "code",
   "execution_count": 33,
   "metadata": {},
   "outputs": [],
   "source": [
    "# Replace None with appropriate code\n",
    "def get_offsets(total):\n",
    "    \"\"\"\n",
    "    Get a list of offsets needed to get all pages\n",
    "    of data up until the total\n",
    "    \"\"\"\n",
    "    return list(range(0, total, 50))"
   ]
  },
  {
   "cell_type": "markdown",
   "metadata": {},
   "source": [
    "Check that your function works below:"
   ]
  },
  {
   "cell_type": "code",
   "execution_count": 34,
   "metadata": {},
   "outputs": [],
   "source": [
    "# Run this cell without changes\n",
    "\n",
    "assert get_offsets(200) == [0, 50, 100, 150]\n",
    "assert get_offsets(210) == [0, 50, 100, 150, 200]"
   ]
  },
  {
   "cell_type": "markdown",
   "metadata": {},
   "source": [
    "### Putting It All Together\n",
    "\n",
    "Recall that the following variable has already been declared for you:"
   ]
  },
  {
   "cell_type": "code",
   "execution_count": 35,
   "metadata": {},
   "outputs": [
    {
     "data": {
      "text/plain": [
       "{'term': 'pizza', 'location': 'New+York+NY', 'offset': 0}"
      ]
     },
     "execution_count": 35,
     "metadata": {},
     "output_type": "execute_result"
    }
   ],
   "source": [
    "# Run this cell without changes\n",
    "url_params"
   ]
  },
  {
   "cell_type": "markdown",
   "metadata": {},
   "source": [
    "We'll go ahead and also specify that the limit should be 50 every time:"
   ]
  },
  {
   "cell_type": "code",
   "execution_count": 36,
   "metadata": {},
   "outputs": [],
   "source": [
    "# Run this cell without changes\n",
    "url_params[\"limit\"] = 50"
   ]
  },
  {
   "cell_type": "markdown",
   "metadata": {},
   "source": [
    "In order to modify the offset, you'll need to add it to `url_params` with the key `\"offset\"` and whatever value is needed.\n",
    "\n",
    "In the cell below, write code that:\n",
    "\n",
    "* Creates an empty list for the full prepared dataset\n",
    "* Loops over all of the offsets from `get_offsets` and makes an API call each time with the specified offset\n",
    "* Calls `prepare_data` to get a cleaned version of the result of each API call\n",
    "* Extends the full prepared dataset list with each query's prepared dataset"
   ]
  },
  {
   "cell_type": "code",
   "execution_count": 18,
   "metadata": {},
   "outputs": [],
   "source": [
    "import time"
   ]
  },
  {
   "cell_type": "code",
   "execution_count": 43,
   "metadata": {},
   "outputs": [
    {
     "data": {
      "text/plain": [
       "316"
      ]
     },
     "execution_count": 43,
     "metadata": {},
     "output_type": "execute_result"
    }
   ],
   "source": [
    "# Create an empty list for the full prepared dataset\n",
    "full_dataset = []\n",
    "\n",
    "for offset in get_offsets(total):\n",
    "    # Add or update the \"offset\" key-value pair in url_params\n",
    "    url_params[\"offset\"] = offset\n",
    "    \n",
    "    # Make the query and get the response\n",
    "    response = requests.get(url, headers=headers, params=url_params)\n",
    "    \n",
    "    # Get the response body in JSON format\n",
    "    response_json = response.json()\n",
    "    \n",
    "    # Get the list of businesses from the response_json\n",
    "    businesses = response_json[\"businesses\"]\n",
    "    \n",
    "    # Call the prepare_data function to get a list of processed data\n",
    "    prepared_businesses = prepare_data(businesses)\n",
    "    \n",
    "    # Extend full_dataset with this list (don't append, or you'll get\n",
    "    # a list of lists instead of a flat list)\n",
    "    full_dataset.extend(prepared_businesses)\n",
    "\n",
    "# Check the length of the full dataset. It will be up to `total`,\n",
    "# potentially less if there were missing values\n",
    "len(full_dataset)"
   ]
  },
  {
   "cell_type": "markdown",
   "metadata": {},
   "source": [
    "This code may take up to a few minutes to run.\n",
    "\n",
    "If you get an error trying to get the response body in JSON format, try adding `time.sleep(1)` right after the `requests.get` line, so your code will sleep for 1 second between each API call."
   ]
  },
  {
   "cell_type": "markdown",
   "metadata": {},
   "source": [
    "## 3. Perform Exploratory Analysis\n",
    "\n",
    "Take the businesses from the previous question and do an initial exploratory analysis. We have provided some plots for you to interpret:"
   ]
  },
  {
   "cell_type": "code",
   "execution_count": 44,
   "metadata": {},
   "outputs": [
    {
     "data": {
      "image/png": "[encoded data removed]",
      "text/plain": [
       "<Figure size 1152x360 with 3 Axes>"
      ]
     },
     "metadata": {
      "needs_background": "light"
     },
     "output_type": "display_data"
    }
   ],
   "source": [
    "# Run this cell without changes\n",
    "from collections import Counter\n",
    "import matplotlib.pyplot as plt\n",
    "%matplotlib inline\n",
    "\n",
    "fig, (ax1, ax2, ax3) = plt.subplots(ncols=3, figsize=(16, 5))\n",
    "\n",
    "# Plot distribution of number of reviews\n",
    "all_review_counts = [x[\"review_count\"] for x in full_dataset]\n",
    "ax1.hist(all_review_counts)\n",
    "ax1.set_title(\"Review Count Distribution\")\n",
    "ax1.set_xlabel(\"Number of Reviews\")\n",
    "ax1.set_ylabel(\"Number of Businesses\")\n",
    "\n",
    "# Plot rating distribution\n",
    "all_ratings = [x[\"rating\"] for x in full_dataset]\n",
    "rating_counter = Counter(all_ratings)\n",
    "rating_keys = sorted(rating_counter.keys())\n",
    "ax2.bar(rating_keys, [rating_counter[key] for key in rating_keys])\n",
    "ax2.set_title(\"Rating Distribution\")\n",
    "ax2.set_xlabel(\"Rating\")\n",
    "ax2.set_ylabel(\"Number of Businesses\")\n",
    "\n",
    "# Plot price distribution\n",
    "all_prices = [x[\"price\"].replace(\"$\", r\"\\$\") for x in full_dataset]\n",
    "price_counter = Counter(all_prices)\n",
    "price_keys = sorted(price_counter.keys())\n",
    "ax3.bar(price_keys, [price_counter[key] for key in price_keys])\n",
    "ax3.set_title(\"Price Distribution\")\n",
    "ax3.set_xlabel(\"Price Category\")\n",
    "ax3.set_ylabel(\"Number of Businesses\");"
   ]
  },
  {
   "cell_type": "markdown",
   "metadata": {},
   "source": [
    "Describe the distributions displayed above and interpret them in the context of your query. (Your answer may differ from the solution branch depending on your query.)"
   ]
  },
  {
   "cell_type": "code",
   "execution_count": null,
   "metadata": {},
   "outputs": [],
   "source": [
    "# Replace None with appropriate text\n",
    "\"\"\"\n",
    "The review count distribution is skewed to the right\n",
    "with most businesses with less than 2000 reviews.\n",
    "\n",
    "The rating distribution peaks at around 4, \n",
    "most ratings are above three and below 5\n",
    "\n",
    "The price distribution indicates that most businesses \n",
    "price category is $$\n",
    "\"\"\""
   ]
  },
  {
   "cell_type": "markdown",
   "metadata": {},
   "source": [
    "In the cell below, we also plot the rating distributions by price. In this setup, a price of one dollar sign is \"lower price\" and everything else is \"higher price\"."
   ]
  },
  {
   "cell_type": "code",
   "execution_count": 45,
   "metadata": {},
   "outputs": [
    {
     "data": {
      "image/png": "[encoded data removed]",
      "text/plain": [
       "<Figure size 432x288 with 1 Axes>"
      ]
     },
     "metadata": {
      "needs_background": "light"
     },
     "output_type": "display_data"
    }
   ],
   "source": [
    "# Run this cell without changes\n",
    "\n",
    "higher_price = []\n",
    "lower_price = []\n",
    "for row in full_dataset:\n",
    "    if row[\"price\"] == \"$\":\n",
    "        lower_price.append(row[\"rating\"])\n",
    "    else:\n",
    "        higher_price.append(row[\"rating\"])\n",
    "        \n",
    "fig, ax = plt.subplots()\n",
    "\n",
    "ax.hist([higher_price, lower_price], label=[\"higher price\", \"lower price\"], density=True)\n",
    "\n",
    "ax.legend();"
   ]
  },
  {
   "cell_type": "markdown",
   "metadata": {},
   "source": [
    "Is a higher price associated with a higher rating? (No need for any additional math/statistics, just interpret what you see in the plot.)"
   ]
  },
  {
   "cell_type": "code",
   "execution_count": null,
   "metadata": {},
   "outputs": [],
   "source": [
    "# Replace None with appropriate text\n",
    "\"\"\"\n",
    "Higher price seems to be associated with higher rating since\n",
    "the blue bars are higher than the orange bars from rating of 4\n",
    "while the orange bars are higher than the blue bars for ratings below 4\n",
    "\"\"\""
   ]
  },
  {
   "cell_type": "markdown",
   "metadata": {},
   "source": [
    "Finally, let's look at ratings vs. review counts:"
   ]
  },
  {
   "cell_type": "code",
   "execution_count": 46,
   "metadata": {},
   "outputs": [
    {
     "data": {
      "image/png": "[encoded data removed]",
      "text/plain": [
       "<Figure size 1152x360 with 1 Axes>"
      ]
     },
     "metadata": {
      "needs_background": "light"
     },
     "output_type": "display_data"
    }
   ],
   "source": [
    "# Run this cell without changes\n",
    "fig, ax = plt.subplots(figsize=(16,5))\n",
    "\n",
    "ax.scatter(all_review_counts, all_ratings, alpha=0.2)\n",
    "ax.set_xlabel(\"Number of Reviews\")\n",
    "ax.set_ylabel(\"Rating\")\n",
    "# \"zoom in\" to a subset of review counts\n",
    "ax.set_xlim(left=0, right=1000);"
   ]
  },
  {
   "cell_type": "markdown",
   "metadata": {},
   "source": [
    "Is a higher number of reviews associated with a higher rating?"
   ]
  },
  {
   "cell_type": "code",
   "execution_count": null,
   "metadata": {},
   "outputs": [],
   "source": [
    "# Replace None with appropriate text\n",
    "\"\"\"\n",
    "The higher ratings(ratings from 3.5 and above) seem to have\n",
    "more number of reviews in general as compared to the lower ratings.\n",
    "However,even the number of reviews above 600 are less compared\n",
    "to those below 600 for the higher ratings, therefore it is not clear\n",
    "if a higher number of reviews associated with a higher rating\n",
    "\"\"\""
   ]
  },
  {
   "cell_type": "markdown",
   "metadata": {},
   "source": [
    "## 4. Create a Folium Map\n",
    "\n",
    "Make a map using Folium of the businesses you retrieved. Be sure to also add popups to the markers giving some basic information such as name, rating and price.\n",
    "\n",
    "You can center the map around the latitude and longitude of the first item in `full_dataset`."
   ]
  },
  {
   "cell_type": "code",
   "execution_count": 49,
   "metadata": {},
   "outputs": [
    {
     "data": {
      "text/html": [
       "<div style=\"width:100%;\"><div style=\"position:relative;width:100%;height:0;padding-bottom:60%;\"><span style=\"color:#565656\">Make this Notebook Trusted to load map: File -> Trust Notebook</span><iframe src=\"about:blank\" style=\"position:absolute;width:100%;height:100%;left:0;top:0;border:none !important;\" data-html=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 onload=\"this.contentDocument.open();this.contentDocument.write(atob(this.getAttribute('data-html')));this.contentDocument.close();\" allowfullscreen webkitallowfullscreen mozallowfullscreen></iframe></div></div>"
      ],
      "text/plain": [
       "<folium.folium.Map at 0x23d1760a220>"
      ]
     },
     "execution_count": 49,
     "metadata": {},
     "output_type": "execute_result"
    }
   ],
   "source": [
    "# Replace None with appropriate code\n",
    "\n",
    "# Import the library\n",
    "import folium\n",
    "\n",
    "# Set up center latitude and longitude\n",
    "center_lat = full_dataset[0][\"latitude\"]\n",
    "center_long = full_dataset[0][\"longitude\"]\n",
    "\n",
    "# Initialize map with center lat and long\n",
    "yelp_map = folium.Map([center_lat, center_long], zoom_start=12)\n",
    "\n",
    "# Adjust this limit to see more or fewer businesses\n",
    "limit= 50\n",
    "\n",
    "for business in full_dataset[:limit]:\n",
    "    # Extract information about business\n",
    "    lat = business[\"latitude\"]\n",
    "    long = business[\"longitude\"]\n",
    "    name = business[\"name\"]\n",
    "    rating = business[\"rating\"]\n",
    "    price = business[\"price\"]\n",
    "    details = \"{}\\nPrice: {} Rating:{}\".format(name,price,rating)\n",
    "    \n",
    "    # Create popup with relevant details\n",
    "    popup = folium.Popup(details)\n",
    "    \n",
    "    # Create marker with relevant lat/long and popup\n",
    "    marker = folium.Marker([lat, long], popup=popup)\n",
    "    \n",
    "    marker.add_to(yelp_map)\n",
    "    \n",
    "yelp_map"
   ]
  },
  {
   "cell_type": "markdown",
   "metadata": {},
   "source": [
    "## Summary\n",
    "\n",
    "Nice work! In this lab, you've made multiple API calls to Yelp in order to paginate through a results set, performing some basic exploratory analysis and then creating a nice interactive map to display the results using Folium! Well done!"
   ]
  }
 ],
 "metadata": {
  "kernelspec": {
   "display_name": "Python 3",
   "language": "python",
   "name": "python3"
  },
  "language_info": {
   "codemirror_mode": {
    "name": "ipython",
    "version": 3
   },
   "file_extension": ".py",
   "mimetype": "text/x-python",
   "name": "python",
   "nbconvert_exporter": "python",
   "pygments_lexer": "ipython3",
   "version": "3.8.5"
  },
  "toc": {
   "base_numbering": 1,
   "nav_menu": {},
   "number_sections": true,
   "sideBar": true,
   "skip_h1_title": false,
   "title_cell": "Table of Contents",
   "title_sidebar": "Contents",
   "toc_cell": false,
   "toc_position": {},
   "toc_section_display": true,
   "toc_window_display": false
  }
 },
 "nbformat": 4,
 "nbformat_minor": 2
}
